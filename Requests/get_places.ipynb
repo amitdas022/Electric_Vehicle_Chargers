{
 "cells": [
  {
   "cell_type": "code",
   "execution_count": 33,
   "metadata": {},
   "outputs": [],
   "source": [
    "# Library Imports\n",
    "\n",
    "import requests\n",
    "import json\n",
    "import time\n",
    "from IPython.display import display"
   ]
  },
  {
   "cell_type": "code",
   "execution_count": 34,
   "metadata": {},
   "outputs": [],
   "source": [
    "# ENDPOINTS AND API KEY\n",
    "\n",
    "# Static\n",
    "base_url = 'https://maps.googleapis.com/maps/api/place/textsearch/json'\n",
    "maps_api_key = ''\n",
    "\n",
    "# Construct query parameters ( seach_term > 'string', location > 'lat,long' )\n",
    "def query_params(search_term, location, next_page_token=None):\n",
    "    params_1 = {\n",
    "        'query': search_term,\n",
    "        'location': location,\n",
    "        'language': 'en',\n",
    "        'radius': '2000',\n",
    "        'region': 'en',\n",
    "        'key': maps_api_key, \n",
    "    }\n",
    "    params_2 = {\n",
    "        'query': search_term,\n",
    "        'location': location,\n",
    "        'language': 'en',\n",
    "        'radius': '1',\n",
    "        'region': 'en',\n",
    "        'key': maps_api_key,\n",
    "        'next_page_token': next_page_token \n",
    "    }\n",
    "    if next_page_token is not None:\n",
    "        return params_1\n",
    "    else:\n",
    "        return params_2"
   ]
  },
  {
   "cell_type": "code",
   "execution_count": 42,
   "metadata": {},
   "outputs": [
    {
     "ename": "KeyboardInterrupt",
     "evalue": "",
     "output_type": "error",
     "traceback": [
      "\u001b[1;31m---------------------------------------------------------------------------\u001b[0m",
      "\u001b[1;31mFileNotFoundError\u001b[0m                         Traceback (most recent call last)",
      "File \u001b[1;32mD:\\Personal\\PersonalUseSoftware\\Python\\lib\\genericpath.py:19\u001b[0m, in \u001b[0;36mexists\u001b[1;34m(path)\u001b[0m\n\u001b[0;32m     <a href='file:///d%3A/Personal/PersonalUseSoftware/Python/lib/genericpath.py?line=17'>18</a>\u001b[0m \u001b[39mtry\u001b[39;00m:\n\u001b[1;32m---> <a href='file:///d%3A/Personal/PersonalUseSoftware/Python/lib/genericpath.py?line=18'>19</a>\u001b[0m     os\u001b[39m.\u001b[39;49mstat(path)\n\u001b[0;32m     <a href='file:///d%3A/Personal/PersonalUseSoftware/Python/lib/genericpath.py?line=19'>20</a>\u001b[0m \u001b[39mexcept\u001b[39;00m (\u001b[39mOSError\u001b[39;00m, \u001b[39mValueError\u001b[39;00m):\n",
      "\u001b[1;31mFileNotFoundError\u001b[0m: [WinError 2] The system cannot find the file specified: 'C:\\\\Users\\\\AmitDas/.netrc'",
      "\nDuring handling of the above exception, another exception occurred:\n",
      "\u001b[1;31mKeyboardInterrupt\u001b[0m                         Traceback (most recent call last)",
      "\u001b[1;32md:\\Personal\\PersonalProjects\\EV_Chargers_Data\\Requests\\get_places.ipynb Cell 3'\u001b[0m in \u001b[0;36m<cell line: 9>\u001b[1;34m()\u001b[0m\n\u001b[0;32m     <a href='vscode-notebook-cell:/d%3A/Personal/PersonalProjects/EV_Chargers_Data/Requests/get_places.ipynb#ch0000002?line=11'>12</a>\u001b[0m \u001b[39mwhile\u001b[39;00m \u001b[39mlen\u001b[39m(raw_response_json[\u001b[39m'\u001b[39m\u001b[39mnext_page_token\u001b[39m\u001b[39m'\u001b[39m]) \u001b[39m>\u001b[39m \u001b[39m0\u001b[39m:\n\u001b[0;32m     <a href='vscode-notebook-cell:/d%3A/Personal/PersonalProjects/EV_Chargers_Data/Requests/get_places.ipynb#ch0000002?line=12'>13</a>\u001b[0m     time\u001b[39m.\u001b[39msleep(\u001b[39m2\u001b[39m)\n\u001b[1;32m---> <a href='vscode-notebook-cell:/d%3A/Personal/PersonalProjects/EV_Chargers_Data/Requests/get_places.ipynb#ch0000002?line=13'>14</a>\u001b[0m     temp_res \u001b[39m=\u001b[39m requests\u001b[39m.\u001b[39;49mget(base_url, params\u001b[39m=\u001b[39;49mquery_params(search_term, location, raw_response_json[\u001b[39m'\u001b[39;49m\u001b[39mnext_page_token\u001b[39;49m\u001b[39m'\u001b[39;49m]))\n\u001b[0;32m     <a href='vscode-notebook-cell:/d%3A/Personal/PersonalProjects/EV_Chargers_Data/Requests/get_places.ipynb#ch0000002?line=14'>15</a>\u001b[0m     \u001b[39mif\u001b[39;00m temp_res\u001b[39m.\u001b[39mstatus_code \u001b[39m==\u001b[39m \u001b[39m200\u001b[39m:\n\u001b[0;32m     <a href='vscode-notebook-cell:/d%3A/Personal/PersonalProjects/EV_Chargers_Data/Requests/get_places.ipynb#ch0000002?line=15'>16</a>\u001b[0m         temp_res_json \u001b[39m=\u001b[39m temp_res\u001b[39m.\u001b[39mjson()\n",
      "File \u001b[1;32mD:\\Personal\\PersonalUseSoftware\\Python\\lib\\site-packages\\requests\\api.py:75\u001b[0m, in \u001b[0;36mget\u001b[1;34m(url, params, **kwargs)\u001b[0m\n\u001b[0;32m     <a href='file:///d%3A/Personal/PersonalUseSoftware/Python/lib/site-packages/requests/api.py?line=63'>64</a>\u001b[0m \u001b[39mdef\u001b[39;00m \u001b[39mget\u001b[39m(url, params\u001b[39m=\u001b[39m\u001b[39mNone\u001b[39;00m, \u001b[39m*\u001b[39m\u001b[39m*\u001b[39mkwargs):\n\u001b[0;32m     <a href='file:///d%3A/Personal/PersonalUseSoftware/Python/lib/site-packages/requests/api.py?line=64'>65</a>\u001b[0m     \u001b[39mr\u001b[39m\u001b[39m\"\"\"Sends a GET request.\u001b[39;00m\n\u001b[0;32m     <a href='file:///d%3A/Personal/PersonalUseSoftware/Python/lib/site-packages/requests/api.py?line=65'>66</a>\u001b[0m \n\u001b[0;32m     <a href='file:///d%3A/Personal/PersonalUseSoftware/Python/lib/site-packages/requests/api.py?line=66'>67</a>\u001b[0m \u001b[39m    :param url: URL for the new :class:`Request` object.\u001b[39;00m\n\u001b[1;32m   (...)\u001b[0m\n\u001b[0;32m     <a href='file:///d%3A/Personal/PersonalUseSoftware/Python/lib/site-packages/requests/api.py?line=71'>72</a>\u001b[0m \u001b[39m    :rtype: requests.Response\u001b[39;00m\n\u001b[0;32m     <a href='file:///d%3A/Personal/PersonalUseSoftware/Python/lib/site-packages/requests/api.py?line=72'>73</a>\u001b[0m \u001b[39m    \"\"\"\u001b[39;00m\n\u001b[1;32m---> <a href='file:///d%3A/Personal/PersonalUseSoftware/Python/lib/site-packages/requests/api.py?line=74'>75</a>\u001b[0m     \u001b[39mreturn\u001b[39;00m request(\u001b[39m'\u001b[39m\u001b[39mget\u001b[39m\u001b[39m'\u001b[39m, url, params\u001b[39m=\u001b[39mparams, \u001b[39m*\u001b[39m\u001b[39m*\u001b[39mkwargs)\n",
      "File \u001b[1;32mD:\\Personal\\PersonalUseSoftware\\Python\\lib\\site-packages\\requests\\api.py:61\u001b[0m, in \u001b[0;36mrequest\u001b[1;34m(method, url, **kwargs)\u001b[0m\n\u001b[0;32m     <a href='file:///d%3A/Personal/PersonalUseSoftware/Python/lib/site-packages/requests/api.py?line=56'>57</a>\u001b[0m \u001b[39m# By using the 'with' statement we are sure the session is closed, thus we\u001b[39;00m\n\u001b[0;32m     <a href='file:///d%3A/Personal/PersonalUseSoftware/Python/lib/site-packages/requests/api.py?line=57'>58</a>\u001b[0m \u001b[39m# avoid leaving sockets open which can trigger a ResourceWarning in some\u001b[39;00m\n\u001b[0;32m     <a href='file:///d%3A/Personal/PersonalUseSoftware/Python/lib/site-packages/requests/api.py?line=58'>59</a>\u001b[0m \u001b[39m# cases, and look like a memory leak in others.\u001b[39;00m\n\u001b[0;32m     <a href='file:///d%3A/Personal/PersonalUseSoftware/Python/lib/site-packages/requests/api.py?line=59'>60</a>\u001b[0m \u001b[39mwith\u001b[39;00m sessions\u001b[39m.\u001b[39mSession() \u001b[39mas\u001b[39;00m session:\n\u001b[1;32m---> <a href='file:///d%3A/Personal/PersonalUseSoftware/Python/lib/site-packages/requests/api.py?line=60'>61</a>\u001b[0m     \u001b[39mreturn\u001b[39;00m session\u001b[39m.\u001b[39mrequest(method\u001b[39m=\u001b[39mmethod, url\u001b[39m=\u001b[39murl, \u001b[39m*\u001b[39m\u001b[39m*\u001b[39mkwargs)\n",
      "File \u001b[1;32mD:\\Personal\\PersonalUseSoftware\\Python\\lib\\site-packages\\requests\\sessions.py:528\u001b[0m, in \u001b[0;36mSession.request\u001b[1;34m(self, method, url, params, data, headers, cookies, files, auth, timeout, allow_redirects, proxies, hooks, stream, verify, cert, json)\u001b[0m\n\u001b[0;32m    <a href='file:///d%3A/Personal/PersonalUseSoftware/Python/lib/site-packages/requests/sessions.py?line=514'>515</a>\u001b[0m \u001b[39m# Create the Request.\u001b[39;00m\n\u001b[0;32m    <a href='file:///d%3A/Personal/PersonalUseSoftware/Python/lib/site-packages/requests/sessions.py?line=515'>516</a>\u001b[0m req \u001b[39m=\u001b[39m Request(\n\u001b[0;32m    <a href='file:///d%3A/Personal/PersonalUseSoftware/Python/lib/site-packages/requests/sessions.py?line=516'>517</a>\u001b[0m     method\u001b[39m=\u001b[39mmethod\u001b[39m.\u001b[39mupper(),\n\u001b[0;32m    <a href='file:///d%3A/Personal/PersonalUseSoftware/Python/lib/site-packages/requests/sessions.py?line=517'>518</a>\u001b[0m     url\u001b[39m=\u001b[39murl,\n\u001b[1;32m   (...)\u001b[0m\n\u001b[0;32m    <a href='file:///d%3A/Personal/PersonalUseSoftware/Python/lib/site-packages/requests/sessions.py?line=525'>526</a>\u001b[0m     hooks\u001b[39m=\u001b[39mhooks,\n\u001b[0;32m    <a href='file:///d%3A/Personal/PersonalUseSoftware/Python/lib/site-packages/requests/sessions.py?line=526'>527</a>\u001b[0m )\n\u001b[1;32m--> <a href='file:///d%3A/Personal/PersonalUseSoftware/Python/lib/site-packages/requests/sessions.py?line=527'>528</a>\u001b[0m prep \u001b[39m=\u001b[39m \u001b[39mself\u001b[39;49m\u001b[39m.\u001b[39;49mprepare_request(req)\n\u001b[0;32m    <a href='file:///d%3A/Personal/PersonalUseSoftware/Python/lib/site-packages/requests/sessions.py?line=529'>530</a>\u001b[0m proxies \u001b[39m=\u001b[39m proxies \u001b[39mor\u001b[39;00m {}\n\u001b[0;32m    <a href='file:///d%3A/Personal/PersonalUseSoftware/Python/lib/site-packages/requests/sessions.py?line=531'>532</a>\u001b[0m settings \u001b[39m=\u001b[39m \u001b[39mself\u001b[39m\u001b[39m.\u001b[39mmerge_environment_settings(\n\u001b[0;32m    <a href='file:///d%3A/Personal/PersonalUseSoftware/Python/lib/site-packages/requests/sessions.py?line=532'>533</a>\u001b[0m     prep\u001b[39m.\u001b[39murl, proxies, stream, verify, cert\n\u001b[0;32m    <a href='file:///d%3A/Personal/PersonalUseSoftware/Python/lib/site-packages/requests/sessions.py?line=533'>534</a>\u001b[0m )\n",
      "File \u001b[1;32mD:\\Personal\\PersonalUseSoftware\\Python\\lib\\site-packages\\requests\\sessions.py:453\u001b[0m, in \u001b[0;36mSession.prepare_request\u001b[1;34m(self, request)\u001b[0m\n\u001b[0;32m    <a href='file:///d%3A/Personal/PersonalUseSoftware/Python/lib/site-packages/requests/sessions.py?line=450'>451</a>\u001b[0m auth \u001b[39m=\u001b[39m request\u001b[39m.\u001b[39mauth\n\u001b[0;32m    <a href='file:///d%3A/Personal/PersonalUseSoftware/Python/lib/site-packages/requests/sessions.py?line=451'>452</a>\u001b[0m \u001b[39mif\u001b[39;00m \u001b[39mself\u001b[39m\u001b[39m.\u001b[39mtrust_env \u001b[39mand\u001b[39;00m \u001b[39mnot\u001b[39;00m auth \u001b[39mand\u001b[39;00m \u001b[39mnot\u001b[39;00m \u001b[39mself\u001b[39m\u001b[39m.\u001b[39mauth:\n\u001b[1;32m--> <a href='file:///d%3A/Personal/PersonalUseSoftware/Python/lib/site-packages/requests/sessions.py?line=452'>453</a>\u001b[0m     auth \u001b[39m=\u001b[39m get_netrc_auth(request\u001b[39m.\u001b[39;49murl)\n\u001b[0;32m    <a href='file:///d%3A/Personal/PersonalUseSoftware/Python/lib/site-packages/requests/sessions.py?line=454'>455</a>\u001b[0m p \u001b[39m=\u001b[39m PreparedRequest()\n\u001b[0;32m    <a href='file:///d%3A/Personal/PersonalUseSoftware/Python/lib/site-packages/requests/sessions.py?line=455'>456</a>\u001b[0m p\u001b[39m.\u001b[39mprepare(\n\u001b[0;32m    <a href='file:///d%3A/Personal/PersonalUseSoftware/Python/lib/site-packages/requests/sessions.py?line=456'>457</a>\u001b[0m     method\u001b[39m=\u001b[39mrequest\u001b[39m.\u001b[39mmethod\u001b[39m.\u001b[39mupper(),\n\u001b[0;32m    <a href='file:///d%3A/Personal/PersonalUseSoftware/Python/lib/site-packages/requests/sessions.py?line=457'>458</a>\u001b[0m     url\u001b[39m=\u001b[39mrequest\u001b[39m.\u001b[39murl,\n\u001b[1;32m   (...)\u001b[0m\n\u001b[0;32m    <a href='file:///d%3A/Personal/PersonalUseSoftware/Python/lib/site-packages/requests/sessions.py?line=465'>466</a>\u001b[0m     hooks\u001b[39m=\u001b[39mmerge_hooks(request\u001b[39m.\u001b[39mhooks, \u001b[39mself\u001b[39m\u001b[39m.\u001b[39mhooks),\n\u001b[0;32m    <a href='file:///d%3A/Personal/PersonalUseSoftware/Python/lib/site-packages/requests/sessions.py?line=466'>467</a>\u001b[0m )\n",
      "File \u001b[1;32mD:\\Personal\\PersonalUseSoftware\\Python\\lib\\site-packages\\requests\\utils.py:198\u001b[0m, in \u001b[0;36mget_netrc_auth\u001b[1;34m(url, raise_errors)\u001b[0m\n\u001b[0;32m    <a href='file:///d%3A/Personal/PersonalUseSoftware/Python/lib/site-packages/requests/utils.py?line=191'>192</a>\u001b[0m \u001b[39mexcept\u001b[39;00m \u001b[39mKeyError\u001b[39;00m:\n\u001b[0;32m    <a href='file:///d%3A/Personal/PersonalUseSoftware/Python/lib/site-packages/requests/utils.py?line=192'>193</a>\u001b[0m     \u001b[39m# os.path.expanduser can fail when $HOME is undefined and\u001b[39;00m\n\u001b[0;32m    <a href='file:///d%3A/Personal/PersonalUseSoftware/Python/lib/site-packages/requests/utils.py?line=193'>194</a>\u001b[0m     \u001b[39m# getpwuid fails. See https://bugs.python.org/issue20164 &\u001b[39;00m\n\u001b[0;32m    <a href='file:///d%3A/Personal/PersonalUseSoftware/Python/lib/site-packages/requests/utils.py?line=194'>195</a>\u001b[0m     \u001b[39m# https://github.com/psf/requests/issues/1846\u001b[39;00m\n\u001b[0;32m    <a href='file:///d%3A/Personal/PersonalUseSoftware/Python/lib/site-packages/requests/utils.py?line=195'>196</a>\u001b[0m     \u001b[39mreturn\u001b[39;00m\n\u001b[1;32m--> <a href='file:///d%3A/Personal/PersonalUseSoftware/Python/lib/site-packages/requests/utils.py?line=197'>198</a>\u001b[0m \u001b[39mif\u001b[39;00m os\u001b[39m.\u001b[39;49mpath\u001b[39m.\u001b[39;49mexists(loc):\n\u001b[0;32m    <a href='file:///d%3A/Personal/PersonalUseSoftware/Python/lib/site-packages/requests/utils.py?line=198'>199</a>\u001b[0m     netrc_path \u001b[39m=\u001b[39m loc\n\u001b[0;32m    <a href='file:///d%3A/Personal/PersonalUseSoftware/Python/lib/site-packages/requests/utils.py?line=199'>200</a>\u001b[0m     \u001b[39mbreak\u001b[39;00m\n",
      "File \u001b[1;32mD:\\Personal\\PersonalUseSoftware\\Python\\lib\\genericpath.py:19\u001b[0m, in \u001b[0;36mexists\u001b[1;34m(path)\u001b[0m\n\u001b[0;32m     <a href='file:///d%3A/Personal/PersonalUseSoftware/Python/lib/genericpath.py?line=16'>17</a>\u001b[0m \u001b[39m\"\"\"Test whether a path exists.  Returns False for broken symbolic links\"\"\"\u001b[39;00m\n\u001b[0;32m     <a href='file:///d%3A/Personal/PersonalUseSoftware/Python/lib/genericpath.py?line=17'>18</a>\u001b[0m \u001b[39mtry\u001b[39;00m:\n\u001b[1;32m---> <a href='file:///d%3A/Personal/PersonalUseSoftware/Python/lib/genericpath.py?line=18'>19</a>\u001b[0m     os\u001b[39m.\u001b[39;49mstat(path)\n\u001b[0;32m     <a href='file:///d%3A/Personal/PersonalUseSoftware/Python/lib/genericpath.py?line=19'>20</a>\u001b[0m \u001b[39mexcept\u001b[39;00m (\u001b[39mOSError\u001b[39;00m, \u001b[39mValueError\u001b[39;00m):\n\u001b[0;32m     <a href='file:///d%3A/Personal/PersonalUseSoftware/Python/lib/genericpath.py?line=20'>21</a>\u001b[0m     \u001b[39mreturn\u001b[39;00m \u001b[39mFalse\u001b[39;00m\n",
      "\u001b[1;31mKeyboardInterrupt\u001b[0m: "
     ]
    }
   ],
   "source": [
    "# GET REQUESTS\n",
    "\n",
    "# Set search term and location\n",
    "search_term = 'Electric Vehicle Charger'\n",
    "# location = '13,78' # Bangalore\n",
    "location = '20,86' # Bhubaneswar\n",
    "\n",
    "raw_response = requests.get(base_url, params=query_params(search_term, location))\n",
    "if raw_response.status_code == 200:\n",
    "    raw_response_json = raw_response.json()\n",
    "    raw_response_list = raw_response_json['results']\n",
    "    while len(raw_response_json['next_page_token']) > 0:\n",
    "        time.sleep(2)\n",
    "        temp_res = requests.get(base_url, params=query_params(search_term, location, raw_response_json['next_page_token']))\n",
    "        if temp_res.status_code == 200:\n",
    "            temp_res_json = temp_res.json()\n",
    "            for each in range(0, len(temp_res_json['results'])):\n",
    "                raw_response_list.append(temp_res_json['results'][each])\n",
    "        raw_response_json = temp_res_json\n",
    "with open('../Raw_Responses/sample_response.json', 'w', encoding='utf-8') as file_writer:\n",
    "    json.dump(raw_response_list, file_writer, ensure_ascii=False, indent=4)\n"
   ]
  },
  {
   "cell_type": "code",
   "execution_count": null,
   "metadata": {},
   "outputs": [],
   "source": [
    "# Location Setter (Radius is 2000m)\n",
    "\n"
   ]
  }
 ],
 "metadata": {
  "interpreter": {
   "hash": "f4b53a898f0ee829dc0d56d5fd60cf8701e7dbde9491157202583818aaeabc49"
  },
  "kernelspec": {
   "display_name": "Python 3.9.6 64-bit",
   "language": "python",
   "name": "python3"
  },
  "language_info": {
   "codemirror_mode": {
    "name": "ipython",
    "version": 3
   },
   "file_extension": ".py",
   "mimetype": "text/x-python",
   "name": "python",
   "nbconvert_exporter": "python",
   "pygments_lexer": "ipython3",
   "version": "3.9.6"
  },
  "orig_nbformat": 4
 },
 "nbformat": 4,
 "nbformat_minor": 2
}
